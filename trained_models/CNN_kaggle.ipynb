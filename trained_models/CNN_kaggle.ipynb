{
  "cells": [
    {
      "cell_type": "code",
      "execution_count": null,
      "metadata": {
        "colab": {
          "background_save": true
        },
        "id": "Wgep4VQvi9P5"
      },
      "outputs": [],
      "source": [
        "import tensorflow as tf\n",
        "import os\n",
        "import numpy as np\n",
        "import warnings\n",
        "from tensorflow.keras import models, layers\n",
        "from matplotlib import pyplot as plt\n",
        "from tensorflow.keras.preprocessing.image import ImageDataGenerator\n",
        "from tensorflow.keras.metrics import BinaryAccuracy, Precision, Recall, AUC"
      ]
    },
    {
      "cell_type": "code",
      "execution_count": null,
      "metadata": {
        "id": "614zH3N9jIY5"
      },
      "outputs": [],
      "source": [
        "from google.colab import drive\n",
        "drive.mount('/content/drive')"
      ]
    },
    {
      "cell_type": "code",
      "execution_count": null,
      "metadata": {
        "id": "LCClZfddjJXE"
      },
      "outputs": [],
      "source": [
        "data_dir = '/content/drive/MyDrive/chestCTscans/Data'\n",
        "target_var = os.listdir(data_dir)\n",
        "target_var"
      ]
    },
    {
      "cell_type": "code",
      "execution_count": null,
      "metadata": {
        "id": "Rmbm_8hhoIxd"
      },
      "outputs": [],
      "source": [
        "s=256\n",
        "METRICS = [\n",
        "      BinaryAccuracy(name='acc'),\n",
        "      Precision(name='precision'),\n",
        "      Recall(name='recall'),\n",
        "      AUC(name='auc')\n",
        "]"
      ]
    },
    {
      "cell_type": "code",
      "execution_count": null,
      "metadata": {
        "id": "1ZOvZvA4n4ah"
      },
      "outputs": [],
      "source": [
        "train_data=ImageDataGenerator(rescale=1./255)\n",
        "test_data=ImageDataGenerator(rescale=1./255)\n",
        "valid_data=ImageDataGenerator(rescale=1./255)\n",
        "\n",
        "train_dir = os.path.join(data_dir ,'train')\n",
        "train_set = train_data.flow_from_directory(train_dir,target_size=(s,s),batch_size=32,class_mode='categorical')\n",
        "\n",
        "test_dir=os.path.join(data_dir ,'test')\n",
        "test_set = test_data.flow_from_directory(test_dir,target_size=(s,s),batch_size=32,class_mode='categorical')\n",
        "\n",
        "valid_dir=os.path.join(data_dir ,'valid')\n",
        "valid_set = test_data.flow_from_directory(valid_dir,target_size=(s,s),batch_size=32,class_mode='categorical')"
      ]
    },
    {
      "cell_type": "code",
      "execution_count": null,
      "metadata": {
        "id": "vR59IReFoQd_"
      },
      "outputs": [],
      "source": [
        "class_names=list(test_set.class_indices.keys())\n",
        "class_names"
      ]
    },
    {
      "cell_type": "code",
      "execution_count": null,
      "metadata": {
        "id": "Ine0JTI2jahg"
      },
      "outputs": [],
      "source": [
        "class_names=list(test_set.class_indices.keys())\n",
        "\n",
        "plt.figure(figsize=(10, 10))\n",
        "for _ in range(5):\n",
        "    img, label = next(test_set)  # Change from test_set.next() to next(test_set)\n",
        "    plt.subplot(1, 5, _ + 1)\n",
        "    plt.tight_layout()\n",
        "\n",
        "# Add code to display or process the images as needed\n",
        "plt.show()"
      ]
    },
    {
      "cell_type": "code",
      "execution_count": null,
      "metadata": {
        "colab": {
          "base_uri": "https://localhost:8080/"
        },
        "id": "nYanA8D-ogCb",
        "outputId": "4402dfea-d245-4098-c99e-379ec2faea72"
      },
      "outputs": [
        {
          "name": "stdout",
          "output_type": "stream",
          "text": [
            "Model: \"sequential_1\"\n",
            "_________________________________________________________________\n",
            " Layer (type)                Output Shape              Param #   \n",
            "=================================================================\n",
            " conv2d_3 (Conv2D)           (None, 254, 254, 64)      1792      \n",
            "                                                                 \n",
            " max_pooling2d_2 (MaxPoolin  (None, 127, 127, 64)      0         \n",
            " g2D)                                                            \n",
            "                                                                 \n",
            " conv2d_4 (Conv2D)           (None, 125, 125, 32)      18464     \n",
            "                                                                 \n",
            " max_pooling2d_3 (MaxPoolin  (None, 62, 62, 32)        0         \n",
            " g2D)                                                            \n",
            "                                                                 \n",
            " conv2d_5 (Conv2D)           (None, 60, 60, 32)        9248      \n",
            "                                                                 \n",
            " dropout_2 (Dropout)         (None, 60, 60, 32)        0         \n",
            "                                                                 \n",
            " flatten_1 (Flatten)         (None, 115200)            0         \n",
            "                                                                 \n",
            " Layer_1 (Dense)             (None, 256)               29491456  \n",
            "                                                                 \n",
            " dropout_3 (Dropout)         (None, 256)               0         \n",
            "                                                                 \n",
            " Layer_2 (Dense)             (None, 128)               32896     \n",
            "                                                                 \n",
            " dense_1 (Dense)             (None, 4)                 516       \n",
            "                                                                 \n",
            "=================================================================\n",
            "Total params: 29554372 (112.74 MB)\n",
            "Trainable params: 29554372 (112.74 MB)\n",
            "Non-trainable params: 0 (0.00 Byte)\n",
            "_________________________________________________________________\n"
          ]
        }
      ],
      "source": [
        "cancer_model = models.Sequential()\n",
        "cancer_model.add(layers.Conv2D(64, (3, 3), activation='relu', input_shape=(s,s,3)))\n",
        "cancer_model.add(layers.MaxPooling2D((2, 2)))\n",
        "cancer_model.add(layers.Conv2D(32, (3, 3), activation='relu'))\n",
        "cancer_model.add(layers.MaxPooling2D((2, 2)))\n",
        "cancer_model.add(layers.Conv2D(32, (3, 3), activation='relu'))\n",
        "cancer_model.add(layers.Dropout((0.4)))\n",
        "cancer_model.add(layers.Flatten())\n",
        "cancer_model.add(layers.Dense(256, activation='relu', name='Layer_1'))\n",
        "cancer_model.add(layers.Dropout((0.4)))\n",
        "cancer_model.add(layers.Dense(128, activation='relu', name='Layer_2'))\n",
        "cancer_model.add(layers.Dense(4, activation='softmax'))\n",
        "cancer_model.summary()"
      ]
    },
    {
      "cell_type": "code",
      "execution_count": null,
      "metadata": {
        "colab": {
          "background_save": true,
          "base_uri": "https://localhost:8080/"
        },
        "id": "aQRkkjHyo1jY",
        "outputId": "7ac8c31e-54e5-4457-ab3e-8d614b848427"
      },
      "outputs": [
        {
          "name": "stdout",
          "output_type": "stream",
          "text": [
            "Epoch 1/30\n",
            "20/20 [==============================] - 157s 8s/step - loss: 2.2468 - acc: 0.7378 - precision: 0.4062 - recall: 0.1060 - auc: 0.5894 - val_loss: 1.2126 - val_acc: 0.7812 - val_precision: 1.0000 - val_recall: 0.1250 - val_auc: 0.6846\n",
            "Epoch 2/30\n",
            "20/20 [==============================] - 127s 6s/step - loss: 1.1075 - acc: 0.7830 - precision: 0.6976 - recall: 0.2333 - auc: 0.7750 - val_loss: 1.3553 - val_acc: 0.7326 - val_precision: 0.4419 - val_recall: 0.2639 - val_auc: 0.6801\n",
            "Epoch 3/30\n",
            "20/20 [==============================] - 127s 7s/step - loss: 0.8375 - acc: 0.8287 - precision: 0.7506 - recall: 0.4715 - auc: 0.8759 - val_loss: 0.8384 - val_acc: 0.8160 - val_precision: 0.8276 - val_recall: 0.3333 - val_auc: 0.9003\n",
            "Epoch 4/30\n",
            "20/20 [==============================] - 126s 6s/step - loss: 0.6090 - acc: 0.8785 - precision: 0.8195 - recall: 0.6591 - auc: 0.9363 - val_loss: 0.9565 - val_acc: 0.7882 - val_precision: 0.5821 - val_recall: 0.5417 - val_auc: 0.8605\n",
            "Epoch 5/30\n",
            "20/20 [==============================] - 125s 6s/step - loss: 0.5016 - acc: 0.9013 - precision: 0.8330 - recall: 0.7569 - auc: 0.9555 - val_loss: 0.7117 - val_acc: 0.8264 - val_precision: 0.6774 - val_recall: 0.5833 - val_auc: 0.9072\n",
            "Epoch 6/30\n",
            "20/20 [==============================] - 124s 6s/step - loss: 0.3072 - acc: 0.9405 - precision: 0.8964 - recall: 0.8613 - auc: 0.9827 - val_loss: 0.7393 - val_acc: 0.8368 - val_precision: 0.6984 - val_recall: 0.6111 - val_auc: 0.9099\n",
            "Epoch 7/30\n",
            "20/20 [==============================] - 125s 6s/step - loss: 0.2288 - acc: 0.9600 - precision: 0.9328 - recall: 0.9054 - auc: 0.9901 - val_loss: 0.5943 - val_acc: 0.8715 - val_precision: 0.7778 - val_recall: 0.6806 - val_auc: 0.9339\n",
            "Epoch 8/30\n",
            "20/20 [==============================] - 125s 6s/step - loss: 0.1040 - acc: 0.9878 - precision: 0.9802 - recall: 0.9706 - auc: 0.9972 - val_loss: 0.8402 - val_acc: 0.8646 - val_precision: 0.7324 - val_recall: 0.7222 - val_auc: 0.9256\n",
            "Epoch 9/30\n",
            "20/20 [==============================] - 124s 6s/step - loss: 0.1332 - acc: 0.9755 - precision: 0.9555 - recall: 0.9462 - auc: 0.9966 - val_loss: 0.9244 - val_acc: 0.8090 - val_precision: 0.6308 - val_recall: 0.5694 - val_auc: 0.8794\n",
            "Epoch 10/30\n",
            "20/20 [==============================] - 123s 6s/step - loss: 0.0792 - acc: 0.9910 - precision: 0.9821 - recall: 0.9821 - auc: 0.9971 - val_loss: 0.6727 - val_acc: 0.8715 - val_precision: 0.7612 - val_recall: 0.7083 - val_auc: 0.9327\n",
            "Epoch 11/30\n",
            "20/20 [==============================] - 125s 6s/step - loss: 0.0573 - acc: 0.9935 - precision: 0.9869 - recall: 0.9869 - auc: 0.9986 - val_loss: 0.7041 - val_acc: 0.8819 - val_precision: 0.7714 - val_recall: 0.7500 - val_auc: 0.9361\n",
            "Epoch 12/30\n",
            "20/20 [==============================] - 124s 6s/step - loss: 0.0321 - acc: 0.9963 - precision: 0.9935 - recall: 0.9918 - auc: 0.9990 - val_loss: 0.7269 - val_acc: 0.8819 - val_precision: 0.7639 - val_recall: 0.7639 - val_auc: 0.9342\n",
            "Epoch 13/30\n",
            "20/20 [==============================] - 122s 6s/step - loss: 0.0764 - acc: 0.9865 - precision: 0.9739 - recall: 0.9723 - auc: 0.9970 - val_loss: 0.5592 - val_acc: 0.8854 - val_precision: 0.7746 - val_recall: 0.7639 - val_auc: 0.9521\n",
            "Epoch 14/30\n",
            "20/20 [==============================] - 129s 6s/step - loss: 0.0258 - acc: 0.9984 - precision: 0.9967 - recall: 0.9967 - auc: 0.9988 - val_loss: 0.9790 - val_acc: 0.8854 - val_precision: 0.7746 - val_recall: 0.7639 - val_auc: 0.9189\n",
            "Epoch 15/30\n",
            "20/20 [==============================] - 113s 6s/step - loss: 0.0387 - acc: 0.9980 - precision: 0.9967 - recall: 0.9951 - auc: 0.9988 - val_loss: 0.7241 - val_acc: 0.8993 - val_precision: 0.8028 - val_recall: 0.7917 - val_auc: 0.9312\n",
            "Epoch 16/30\n",
            "20/20 [==============================] - 114s 6s/step - loss: 0.0136 - acc: 0.9967 - precision: 0.9935 - recall: 0.9935 - auc: 1.0000 - val_loss: 1.2826 - val_acc: 0.8438 - val_precision: 0.6957 - val_recall: 0.6667 - val_auc: 0.8848\n",
            "Epoch 17/30\n",
            "20/20 [==============================] - 113s 6s/step - loss: 0.0399 - acc: 0.9951 - precision: 0.9902 - recall: 0.9902 - auc: 0.9987 - val_loss: 1.0365 - val_acc: 0.9062 - val_precision: 0.8169 - val_recall: 0.8056 - val_auc: 0.9256\n",
            "Epoch 18/30\n",
            "20/20 [==============================] - 114s 6s/step - loss: 0.0127 - acc: 0.9967 - precision: 0.9935 - recall: 0.9935 - auc: 1.0000 - val_loss: 1.2311 - val_acc: 0.8681 - val_precision: 0.7500 - val_recall: 0.7083 - val_auc: 0.9112\n",
            "Epoch 19/30\n",
            "20/20 [==============================] - 124s 6s/step - loss: 0.0076 - acc: 0.9992 - precision: 0.9984 - recall: 0.9984 - auc: 1.0000 - val_loss: 0.9826 - val_acc: 0.8681 - val_precision: 0.7361 - val_recall: 0.7361 - val_auc: 0.9304\n",
            "Epoch 20/30\n",
            "20/20 [==============================] - 113s 6s/step - loss: 0.0202 - acc: 0.9980 - precision: 0.9967 - recall: 0.9951 - auc: 0.9991 - val_loss: 0.9801 - val_acc: 0.8854 - val_precision: 0.7826 - val_recall: 0.7500 - val_auc: 0.9243\n",
            "Epoch 21/30\n",
            "20/20 [==============================] - 113s 6s/step - loss: 0.0288 - acc: 0.9959 - precision: 0.9918 - recall: 0.9918 - auc: 0.9988 - val_loss: 1.2900 - val_acc: 0.8646 - val_precision: 0.7324 - val_recall: 0.7222 - val_auc: 0.8873\n",
            "Epoch 22/30\n",
            "20/20 [==============================] - 111s 6s/step - loss: 0.0088 - acc: 0.9984 - precision: 0.9967 - recall: 0.9967 - auc: 1.0000 - val_loss: 1.0695 - val_acc: 0.8819 - val_precision: 0.7639 - val_recall: 0.7639 - val_auc: 0.9280\n",
            "Epoch 23/30\n",
            "20/20 [==============================] - 111s 6s/step - loss: 0.0490 - acc: 0.9976 - precision: 0.9951 - recall: 0.9951 - auc: 0.9988 - val_loss: 0.9106 - val_acc: 0.8681 - val_precision: 0.7429 - val_recall: 0.7222 - val_auc: 0.9180\n",
            "Epoch 24/30\n",
            "20/20 [==============================] - 125s 6s/step - loss: 0.0113 - acc: 0.9984 - precision: 0.9967 - recall: 0.9967 - auc: 1.0000 - val_loss: 0.9277 - val_acc: 0.8958 - val_precision: 0.7917 - val_recall: 0.7917 - val_auc: 0.9212\n",
            "Epoch 25/30\n",
            "20/20 [==============================] - 112s 6s/step - loss: 0.0080 - acc: 0.9992 - precision: 0.9984 - recall: 0.9984 - auc: 1.0000 - val_loss: 1.0018 - val_acc: 0.8958 - val_precision: 0.8000 - val_recall: 0.7778 - val_auc: 0.9328\n",
            "Epoch 26/30\n",
            "20/20 [==============================] - 111s 6s/step - loss: 0.0125 - acc: 0.9971 - precision: 0.9951 - recall: 0.9935 - auc: 1.0000 - val_loss: 1.2115 - val_acc: 0.8819 - val_precision: 0.7639 - val_recall: 0.7639 - val_auc: 0.9034\n",
            "Epoch 27/30\n",
            "20/20 [==============================] - 113s 6s/step - loss: 0.0366 - acc: 0.9984 - precision: 0.9967 - recall: 0.9967 - auc: 0.9978 - val_loss: 0.8542 - val_acc: 0.8924 - val_precision: 0.7887 - val_recall: 0.7778 - val_auc: 0.9243\n",
            "Epoch 28/30\n",
            "20/20 [==============================] - 110s 6s/step - loss: 0.0102 - acc: 0.9992 - precision: 0.9984 - recall: 0.9984 - auc: 1.0000 - val_loss: 0.9344 - val_acc: 0.8715 - val_precision: 0.7465 - val_recall: 0.7361 - val_auc: 0.9102\n",
            "Epoch 29/30\n",
            "20/20 [==============================] - 123s 6s/step - loss: 0.0054 - acc: 0.9992 - precision: 0.9984 - recall: 0.9984 - auc: 1.0000 - val_loss: 1.1064 - val_acc: 0.8785 - val_precision: 0.7606 - val_recall: 0.7500 - val_auc: 0.9161\n",
            "Epoch 30/30\n",
            "20/20 [==============================] - 113s 6s/step - loss: 0.0044 - acc: 0.9992 - precision: 0.9984 - recall: 0.9984 - auc: 1.0000 - val_loss: 1.3064 - val_acc: 0.9062 - val_precision: 0.8169 - val_recall: 0.8056 - val_auc: 0.9127\n"
          ]
        }
      ],
      "source": [
        "cancer_model.compile(loss='categorical_crossentropy',\n",
        "              optimizer=\"rmsprop\",\n",
        "              metrics=METRICS)\n",
        "hist = cancer_model.fit(\n",
        "         train_set,\n",
        "         validation_data=valid_set,\n",
        "         batch_size=32,\n",
        "         epochs=30)"
      ]
    }
  ],
  "metadata": {
    "colab": {
      "provenance": []
    },
    "kernelspec": {
      "display_name": "Python 3",
      "name": "python3"
    },
    "language_info": {
      "name": "python"
    }
  },
  "nbformat": 4,
  "nbformat_minor": 0
}